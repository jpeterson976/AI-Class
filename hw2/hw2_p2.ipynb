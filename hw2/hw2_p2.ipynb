{
  "nbformat": 4,
  "nbformat_minor": 0,
  "metadata": {
    "colab": {
      "name": "hw2-p2.ipynb",
      "provenance": []
    },
    "kernelspec": {
      "name": "python3",
      "display_name": "Python 3"
    },
    "accelerator": "GPU"
  },
  "cells": [
    {
      "cell_type": "markdown",
      "metadata": {
        "id": "l34GNy7tyNks",
        "colab_type": "text"
      },
      "source": [
        "## Loading the MNIST fashion data set"
      ]
    },
    {
      "cell_type": "code",
      "metadata": {
        "id": "m66kO0jX2_Xp",
        "colab_type": "code",
        "colab": {}
      },
      "source": [
        "import tensorflow as tf\n",
        "from tensorflow import keras\n",
        "import matplotlib.pyplot as plt\n",
        "import numpy as np\n",
        "\n",
        "fashion_mnist = keras.datasets.fashion_mnist\n",
        "\n",
        "(train_images, train_labels), (test_images, test_labels) = fashion_mnist.load_data()"
      ],
      "execution_count": 0,
      "outputs": []
    },
    {
      "cell_type": "markdown",
      "metadata": {
        "id": "JC5iBT_0OCSl",
        "colab_type": "text"
      },
      "source": [
        "## Preprocess the data"
      ]
    },
    {
      "cell_type": "code",
      "metadata": {
        "id": "inugSPsZNytV",
        "colab_type": "code",
        "colab": {}
      },
      "source": [
        "train_images = train_images / 255.0\n",
        "test_images = test_images / 255.0"
      ],
      "execution_count": 0,
      "outputs": []
    },
    {
      "cell_type": "markdown",
      "metadata": {
        "colab_type": "text",
        "id": "drCrjQmaqi1n"
      },
      "source": [
        "# Underfit model"
      ]
    },
    {
      "cell_type": "markdown",
      "metadata": {
        "colab_type": "text",
        "id": "oX3zXcmKqi1r"
      },
      "source": [
        "## Build the model"
      ]
    },
    {
      "cell_type": "code",
      "metadata": {
        "colab_type": "code",
        "outputId": "e9791e95-a91d-4bbe-98e6-dce7fe98f091",
        "id": "kw0EG2qWqi1t",
        "colab": {
          "base_uri": "https://localhost:8080/",
          "height": 714
        }
      },
      "source": [
        "# set up the layers\n",
        "\n",
        "model = keras.Sequential([\n",
        "    keras.layers.Flatten(input_shape=(28, 28)),\n",
        "    keras.layers.Dense(16, activation=tf.nn.relu),\n",
        "    keras.layers.Dropout(.5),\n",
        "    keras.layers.Dense(10, activation=tf.nn.softmax)\n",
        "])\n",
        "\n",
        "# compile the model\n",
        "\n",
        "model.compile(optimizer='adam',\n",
        "             loss='sparse_categorical_crossentropy',\n",
        "             metrics=['accuracy'])\n",
        "\n",
        "# train the model\n",
        "epochs = 20\n",
        "history = model.fit(train_images, \n",
        "                      train_labels, \n",
        "                      epochs=epochs,  \n",
        "                      validation_data=(test_images, test_labels))"
      ],
      "execution_count": 0,
      "outputs": [
        {
          "output_type": "stream",
          "text": [
            "Train on 60000 samples, validate on 10000 samples\n",
            "Epoch 1/20\n",
            "60000/60000 [==============================] - 5s 90us/sample - loss: 1.1944 - acc: 0.5670 - val_loss: 0.6378 - val_acc: 0.7906\n",
            "Epoch 2/20\n",
            "60000/60000 [==============================] - 5s 83us/sample - loss: 0.9278 - acc: 0.6520 - val_loss: 0.5713 - val_acc: 0.8016\n",
            "Epoch 3/20\n",
            "60000/60000 [==============================] - 5s 82us/sample - loss: 0.8859 - acc: 0.6655 - val_loss: 0.5540 - val_acc: 0.8096\n",
            "Epoch 4/20\n",
            "60000/60000 [==============================] - 5s 83us/sample - loss: 0.8724 - acc: 0.6703 - val_loss: 0.5517 - val_acc: 0.8066\n",
            "Epoch 5/20\n",
            "60000/60000 [==============================] - 5s 82us/sample - loss: 0.8586 - acc: 0.6748 - val_loss: 0.5594 - val_acc: 0.8027\n",
            "Epoch 6/20\n",
            "60000/60000 [==============================] - 5s 84us/sample - loss: 0.8466 - acc: 0.6790 - val_loss: 0.5383 - val_acc: 0.8123\n",
            "Epoch 7/20\n",
            "60000/60000 [==============================] - 5s 83us/sample - loss: 0.8441 - acc: 0.6809 - val_loss: 0.5305 - val_acc: 0.8174\n",
            "Epoch 8/20\n",
            "60000/60000 [==============================] - 5s 82us/sample - loss: 0.8389 - acc: 0.6830 - val_loss: 0.5288 - val_acc: 0.8171\n",
            "Epoch 9/20\n",
            "60000/60000 [==============================] - 5s 83us/sample - loss: 0.8264 - acc: 0.6882 - val_loss: 0.5414 - val_acc: 0.8112\n",
            "Epoch 10/20\n",
            "60000/60000 [==============================] - 5s 83us/sample - loss: 0.8316 - acc: 0.6880 - val_loss: 0.5230 - val_acc: 0.8238\n",
            "Epoch 11/20\n",
            "60000/60000 [==============================] - 5s 83us/sample - loss: 0.8270 - acc: 0.6884 - val_loss: 0.5302 - val_acc: 0.8131\n",
            "Epoch 12/20\n",
            "60000/60000 [==============================] - 5s 85us/sample - loss: 0.8247 - acc: 0.6883 - val_loss: 0.5500 - val_acc: 0.8151\n",
            "Epoch 13/20\n",
            "60000/60000 [==============================] - 5s 84us/sample - loss: 0.8271 - acc: 0.6897 - val_loss: 0.5152 - val_acc: 0.8240\n",
            "Epoch 14/20\n",
            "60000/60000 [==============================] - 5s 84us/sample - loss: 0.8190 - acc: 0.6935 - val_loss: 0.5234 - val_acc: 0.8180\n",
            "Epoch 15/20\n",
            "60000/60000 [==============================] - 5s 83us/sample - loss: 0.8150 - acc: 0.6956 - val_loss: 0.5316 - val_acc: 0.8206\n",
            "Epoch 16/20\n",
            "60000/60000 [==============================] - 5s 84us/sample - loss: 0.8128 - acc: 0.6971 - val_loss: 0.5323 - val_acc: 0.8181\n",
            "Epoch 17/20\n",
            "60000/60000 [==============================] - 5s 84us/sample - loss: 0.8149 - acc: 0.6961 - val_loss: 0.5162 - val_acc: 0.8246\n",
            "Epoch 18/20\n",
            "60000/60000 [==============================] - 5s 89us/sample - loss: 0.8033 - acc: 0.6999 - val_loss: 0.5299 - val_acc: 0.8176\n",
            "Epoch 19/20\n",
            "60000/60000 [==============================] - 5s 88us/sample - loss: 0.8066 - acc: 0.6982 - val_loss: 0.5241 - val_acc: 0.8180\n",
            "Epoch 20/20\n",
            "60000/60000 [==============================] - 5s 84us/sample - loss: 0.8099 - acc: 0.6991 - val_loss: 0.5133 - val_acc: 0.8263\n"
          ],
          "name": "stdout"
        }
      ]
    },
    {
      "cell_type": "markdown",
      "metadata": {
        "colab_type": "text",
        "id": "Xu1RyuX9qi13"
      },
      "source": [
        "## Evaluate accuracy"
      ]
    },
    {
      "cell_type": "code",
      "metadata": {
        "colab_type": "code",
        "outputId": "e568c467-6a67-44d7-cfef-8fd2aab64032",
        "id": "y7o08y10qi15",
        "colab": {
          "base_uri": "https://localhost:8080/",
          "height": 51
        }
      },
      "source": [
        "test_loss, test_acc = model.evaluate(test_images, test_labels)\n",
        "\n",
        "print('Test accuracy:', test_acc)"
      ],
      "execution_count": 0,
      "outputs": [
        {
          "output_type": "stream",
          "text": [
            "10000/10000 [==============================] - 0s 50us/sample - loss: 0.4737 - acc: 0.8364\n",
            "Test accuracy: 0.8364\n"
          ],
          "name": "stdout"
        }
      ]
    },
    {
      "cell_type": "markdown",
      "metadata": {
        "colab_type": "text",
        "id": "XKO_VaOuqi1-"
      },
      "source": [
        "Since the training accuracy is quite low, this model is underfit to the data and is not complex enough to accurately describe it."
      ]
    },
    {
      "cell_type": "markdown",
      "metadata": {
        "colab_type": "text",
        "id": "1g0UARumqi1_"
      },
      "source": [
        "## Training/test loss/accuracy during training"
      ]
    },
    {
      "cell_type": "code",
      "metadata": {
        "colab_type": "code",
        "id": "jvbmxL39qi2B",
        "colab": {}
      },
      "source": [
        "history_dict = history.history\n",
        "loss_values = history_dict['loss']\n",
        "test_loss_values = history_dict['val_loss']\n",
        "epochs_range = range(1, epochs+1)"
      ],
      "execution_count": 0,
      "outputs": []
    },
    {
      "cell_type": "code",
      "metadata": {
        "colab_type": "code",
        "outputId": "60b7327d-bb9c-48c1-d6ec-b7cde6324d44",
        "id": "9y2XJq3zqi2G",
        "colab": {
          "base_uri": "https://localhost:8080/",
          "height": 295
        }
      },
      "source": [
        "plt.plot(epochs_range, loss_values, 'bo', label='Training loss')\n",
        "plt.plot(epochs_range, test_loss_values, 'ro', label='Test loss')\n",
        "plt.title('Training and test loss')\n",
        "plt.xlabel('Epochs')\n",
        "plt.ylabel('Loss')\n",
        "plt.legend()\n",
        "plt.show()"
      ],
      "execution_count": 0,
      "outputs": [
        {
          "output_type": "display_data",
          "data": {
            "image/png": "[encoded data removed]",
            "text/plain": [
              "<Figure size 432x288 with 1 Axes>"
            ]
          },
          "metadata": {
            "tags": []
          }
        }
      ]
    },
    {
      "cell_type": "code",
      "metadata": {
        "colab_type": "code",
        "id": "2CMz8aN4qi2P",
        "colab": {}
      },
      "source": [
        "acc_values = history_dict['acc']\n",
        "test_acc_values = history_dict['val_acc']"
      ],
      "execution_count": 0,
      "outputs": []
    },
    {
      "cell_type": "code",
      "metadata": {
        "colab_type": "code",
        "outputId": "00d646a5-e87b-4a4c-9667-04da23b827da",
        "id": "4Q3r8zsZqi2T",
        "colab": {
          "base_uri": "https://localhost:8080/",
          "height": 295
        }
      },
      "source": [
        "plt.plot(epochs_range, acc_values, 'bo', label='Training accuracy')\n",
        "plt.plot(epochs_range, test_acc_values, 'ro', label='Test accuracy')\n",
        "plt.title('Training and test accuracy')\n",
        "plt.xlabel('Epochs')\n",
        "plt.ylabel('Accuracy')\n",
        "plt.legend()\n",
        "plt.show()"
      ],
      "execution_count": 0,
      "outputs": [
        {
          "output_type": "display_data",
          "data": {
            "image/png": "[encoded data removed]",
            "text/plain": [
              "<Figure size 432x288 with 1 Axes>"
            ]
          },
          "metadata": {
            "tags": []
          }
        }
      ]
    },
    {
      "cell_type": "markdown",
      "metadata": {
        "colab_type": "text",
        "id": "yU0goerSqcIo"
      },
      "source": [
        "# Overfit model"
      ]
    },
    {
      "cell_type": "markdown",
      "metadata": {
        "colab_type": "text",
        "id": "DooqWB-tqcI6"
      },
      "source": [
        "## Build the model"
      ]
    },
    {
      "cell_type": "code",
      "metadata": {
        "colab_type": "code",
        "outputId": "f746d559-04cb-4c16-d51f-0c8f33b10e6e",
        "id": "wntn6hJ-qcI-",
        "colab": {
          "base_uri": "https://localhost:8080/",
          "height": 714
        }
      },
      "source": [
        "# set up the layers\n",
        "\n",
        "model = keras.Sequential([\n",
        "    keras.layers.Flatten(input_shape=(28, 28)),\n",
        "    keras.layers.Dense(512, activation=tf.nn.relu),\n",
        "    keras.layers.Dense(64, activation=tf.nn.softmax)\n",
        "])\n",
        "\n",
        "# compile the model\n",
        "\n",
        "model.compile(optimizer='adam',\n",
        "             loss='sparse_categorical_crossentropy',\n",
        "             metrics=['accuracy'])\n",
        "\n",
        "# train the model\n",
        "epochs = 20\n",
        "history = model.fit(train_images, \n",
        "                      train_labels, \n",
        "                      epochs=epochs,  \n",
        "                      validation_data=(test_images, test_labels))"
      ],
      "execution_count": 0,
      "outputs": [
        {
          "output_type": "stream",
          "text": [
            "Train on 60000 samples, validate on 10000 samples\n",
            "Epoch 1/20\n",
            "60000/60000 [==============================] - 5s 80us/sample - loss: 0.4908 - acc: 0.8257 - val_loss: 0.4178 - val_acc: 0.8487\n",
            "Epoch 2/20\n",
            "60000/60000 [==============================] - 4s 74us/sample - loss: 0.3635 - acc: 0.8677 - val_loss: 0.3788 - val_acc: 0.8628\n",
            "Epoch 3/20\n",
            "60000/60000 [==============================] - 4s 74us/sample - loss: 0.3261 - acc: 0.8798 - val_loss: 0.3652 - val_acc: 0.8705\n",
            "Epoch 4/20\n",
            "60000/60000 [==============================] - 5s 75us/sample - loss: 0.2993 - acc: 0.8896 - val_loss: 0.3471 - val_acc: 0.8785\n",
            "Epoch 5/20\n",
            "60000/60000 [==============================] - 4s 73us/sample - loss: 0.2801 - acc: 0.8970 - val_loss: 0.3358 - val_acc: 0.8785\n",
            "Epoch 6/20\n",
            "60000/60000 [==============================] - 4s 73us/sample - loss: 0.2667 - acc: 0.9015 - val_loss: 0.3392 - val_acc: 0.8817\n",
            "Epoch 7/20\n",
            "60000/60000 [==============================] - 4s 74us/sample - loss: 0.2538 - acc: 0.9039 - val_loss: 0.3243 - val_acc: 0.8853\n",
            "Epoch 8/20\n",
            "60000/60000 [==============================] - 4s 75us/sample - loss: 0.2453 - acc: 0.9084 - val_loss: 0.3480 - val_acc: 0.8796\n",
            "Epoch 9/20\n",
            "60000/60000 [==============================] - 5s 77us/sample - loss: 0.2347 - acc: 0.9115 - val_loss: 0.3385 - val_acc: 0.8862\n",
            "Epoch 10/20\n",
            "60000/60000 [==============================] - 5s 77us/sample - loss: 0.2240 - acc: 0.9160 - val_loss: 0.3333 - val_acc: 0.8839\n",
            "Epoch 11/20\n",
            "60000/60000 [==============================] - 4s 75us/sample - loss: 0.2160 - acc: 0.9185 - val_loss: 0.3284 - val_acc: 0.8893\n",
            "Epoch 12/20\n",
            "60000/60000 [==============================] - 4s 74us/sample - loss: 0.2059 - acc: 0.9224 - val_loss: 0.3495 - val_acc: 0.8841\n",
            "Epoch 13/20\n",
            "60000/60000 [==============================] - 4s 74us/sample - loss: 0.1999 - acc: 0.9258 - val_loss: 0.3451 - val_acc: 0.8859\n",
            "Epoch 14/20\n",
            "60000/60000 [==============================] - 4s 75us/sample - loss: 0.1951 - acc: 0.9260 - val_loss: 0.3425 - val_acc: 0.8908\n",
            "Epoch 15/20\n",
            "60000/60000 [==============================] - 5s 75us/sample - loss: 0.1887 - acc: 0.9284 - val_loss: 0.3478 - val_acc: 0.8883\n",
            "Epoch 16/20\n",
            "60000/60000 [==============================] - 5s 76us/sample - loss: 0.1796 - acc: 0.9334 - val_loss: 0.3563 - val_acc: 0.8893\n",
            "Epoch 17/20\n",
            "60000/60000 [==============================] - 4s 74us/sample - loss: 0.1768 - acc: 0.9329 - val_loss: 0.3571 - val_acc: 0.8879\n",
            "Epoch 18/20\n",
            "60000/60000 [==============================] - 4s 74us/sample - loss: 0.1713 - acc: 0.9355 - val_loss: 0.3858 - val_acc: 0.8856\n",
            "Epoch 19/20\n",
            "60000/60000 [==============================] - 4s 74us/sample - loss: 0.1637 - acc: 0.9390 - val_loss: 0.3588 - val_acc: 0.8940\n",
            "Epoch 20/20\n",
            "60000/60000 [==============================] - 5s 75us/sample - loss: 0.1608 - acc: 0.9383 - val_loss: 0.3821 - val_acc: 0.8846\n"
          ],
          "name": "stdout"
        }
      ]
    },
    {
      "cell_type": "markdown",
      "metadata": {
        "colab_type": "text",
        "id": "ghiIzKEfqcJF"
      },
      "source": [
        "## Evaluate accuracy"
      ]
    },
    {
      "cell_type": "code",
      "metadata": {
        "colab_type": "code",
        "outputId": "165ceb17-f3af-4af3-b12c-1a664ed2b6c0",
        "id": "jEY6x8VXqcJG",
        "colab": {
          "base_uri": "https://localhost:8080/",
          "height": 51
        }
      },
      "source": [
        "test_loss, test_acc = model.evaluate(test_images, test_labels)\n",
        "\n",
        "print('Test accuracy:', test_acc)"
      ],
      "execution_count": 0,
      "outputs": [
        {
          "output_type": "stream",
          "text": [
            "10000/10000 [==============================] - 1s 52us/sample - loss: 0.3821 - acc: 0.8846\n",
            "Test accuracy: 0.8846\n"
          ],
          "name": "stdout"
        }
      ]
    },
    {
      "cell_type": "markdown",
      "metadata": {
        "colab_type": "text",
        "id": "IYNOuanwqcJJ"
      },
      "source": [
        "Since the test accuracy is less than the training accuracy, this model is overfit to the data and too complex to accurately describe it."
      ]
    },
    {
      "cell_type": "markdown",
      "metadata": {
        "colab_type": "text",
        "id": "zuy3n9coqcJK"
      },
      "source": [
        "## Training/test loss/accuracy during training"
      ]
    },
    {
      "cell_type": "code",
      "metadata": {
        "colab_type": "code",
        "id": "bssN5yclqcJL",
        "colab": {}
      },
      "source": [
        "history_dict = history.history\n",
        "loss_values = history_dict['loss']\n",
        "test_loss_values = history_dict['val_loss']\n",
        "epochs_range = range(1, epochs+1)"
      ],
      "execution_count": 0,
      "outputs": []
    },
    {
      "cell_type": "code",
      "metadata": {
        "colab_type": "code",
        "outputId": "453e5873-140f-43d5-c728-c51bd840c4fc",
        "id": "WV6IeL9gqcJP",
        "colab": {
          "base_uri": "https://localhost:8080/",
          "height": 295
        }
      },
      "source": [
        "plt.plot(epochs_range, loss_values, 'bo', label='Training loss')\n",
        "plt.plot(epochs_range, test_loss_values, 'ro', label='Test loss')\n",
        "plt.title('Training and test loss')\n",
        "plt.xlabel('Epochs')\n",
        "plt.ylabel('Loss')\n",
        "plt.legend()\n",
        "plt.show()"
      ],
      "execution_count": 0,
      "outputs": [
        {
          "output_type": "display_data",
          "data": {
            "image/png": "[encoded data removed]",
            "text/plain": [
              "<Figure size 432x288 with 1 Axes>"
            ]
          },
          "metadata": {
            "tags": []
          }
        }
      ]
    },
    {
      "cell_type": "code",
      "metadata": {
        "colab_type": "code",
        "id": "dorqdMCXqcJS",
        "colab": {}
      },
      "source": [
        "acc_values = history_dict['acc']\n",
        "test_acc_values = history_dict['val_acc']"
      ],
      "execution_count": 0,
      "outputs": []
    },
    {
      "cell_type": "code",
      "metadata": {
        "colab_type": "code",
        "outputId": "8402ac8f-4248-4b71-a441-88a508575e39",
        "id": "MY2jg5dXqcJV",
        "colab": {
          "base_uri": "https://localhost:8080/",
          "height": 295
        }
      },
      "source": [
        "plt.plot(epochs_range, acc_values, 'bo', label='Training accuracy')\n",
        "plt.plot(epochs_range, test_acc_values, 'ro', label='Test accuracy')\n",
        "plt.title('Training and test accuracy')\n",
        "plt.xlabel('Epochs')\n",
        "plt.ylabel('Accuracy')\n",
        "plt.legend()\n",
        "plt.show()"
      ],
      "execution_count": 0,
      "outputs": [
        {
          "output_type": "display_data",
          "data": {
            "image/png": "[encoded data removed]",
            "text/plain": [
              "<Figure size 432x288 with 1 Axes>"
            ]
          },
          "metadata": {
            "tags": []
          }
        }
      ]
    },
    {
      "cell_type": "markdown",
      "metadata": {
        "id": "O8bsdPOpb01z",
        "colab_type": "text"
      },
      "source": [
        "# \"Pretty good\" model"
      ]
    },
    {
      "cell_type": "markdown",
      "metadata": {
        "id": "OA975wHjOJI-",
        "colab_type": "text"
      },
      "source": [
        "## Build the model"
      ]
    },
    {
      "cell_type": "code",
      "metadata": {
        "id": "ZX6SGTpMOIKN",
        "colab_type": "code",
        "outputId": "c5ab71ac-5b91-4f3c-a98f-817814e7c321",
        "colab": {
          "base_uri": "https://localhost:8080/",
          "height": 714
        }
      },
      "source": [
        "# set up the layers\n",
        "\n",
        "model = keras.Sequential([\n",
        "    keras.layers.Flatten(input_shape=(28, 28)),\n",
        "    keras.layers.Dense(64, activation=tf.nn.softmax),\n",
        "    keras.layers.Dropout(.2),\n",
        "    keras.layers.Dense(128, activation=tf.nn.relu),\n",
        "    keras.layers.Dropout(.2),\n",
        "    keras.layers.Dense(256, activation=tf.nn.softmax)\n",
        "])\n",
        "\n",
        "# compile the model\n",
        "\n",
        "model.compile(optimizer='adam',\n",
        "             loss='sparse_categorical_crossentropy',\n",
        "             metrics=['accuracy'])\n",
        "\n",
        "# train the model\n",
        "epochs = 20\n",
        "history = model.fit(train_images, \n",
        "                      train_labels, \n",
        "                      epochs=epochs,  \n",
        "                      validation_data=(test_images, test_labels))"
      ],
      "execution_count": 0,
      "outputs": [
        {
          "output_type": "stream",
          "text": [
            "Train on 60000 samples, validate on 10000 samples\n",
            "Epoch 1/20\n",
            "60000/60000 [==============================] - 6s 97us/sample - loss: 1.5987 - acc: 0.3842 - val_loss: 0.7777 - val_acc: 0.7107\n",
            "Epoch 2/20\n",
            "60000/60000 [==============================] - 5s 89us/sample - loss: 0.7889 - acc: 0.7045 - val_loss: 0.5310 - val_acc: 0.8149\n",
            "Epoch 3/20\n",
            "60000/60000 [==============================] - 5s 87us/sample - loss: 0.6436 - acc: 0.7761 - val_loss: 0.4892 - val_acc: 0.8293\n",
            "Epoch 4/20\n",
            "60000/60000 [==============================] - 5s 87us/sample - loss: 0.5710 - acc: 0.8027 - val_loss: 0.4750 - val_acc: 0.8324\n",
            "Epoch 5/20\n",
            "60000/60000 [==============================] - 5s 87us/sample - loss: 0.5276 - acc: 0.8180 - val_loss: 0.4487 - val_acc: 0.8472\n",
            "Epoch 6/20\n",
            "60000/60000 [==============================] - 5s 87us/sample - loss: 0.4894 - acc: 0.8284 - val_loss: 0.4491 - val_acc: 0.8431\n",
            "Epoch 7/20\n",
            "60000/60000 [==============================] - 5s 89us/sample - loss: 0.4661 - acc: 0.8359 - val_loss: 0.4359 - val_acc: 0.8453\n",
            "Epoch 8/20\n",
            "60000/60000 [==============================] - 5s 87us/sample - loss: 0.4462 - acc: 0.8420 - val_loss: 0.4187 - val_acc: 0.8522\n",
            "Epoch 9/20\n",
            "60000/60000 [==============================] - 5s 87us/sample - loss: 0.4353 - acc: 0.8438 - val_loss: 0.4047 - val_acc: 0.8569\n",
            "Epoch 10/20\n",
            "60000/60000 [==============================] - 5s 87us/sample - loss: 0.4237 - acc: 0.8505 - val_loss: 0.4321 - val_acc: 0.8476\n",
            "Epoch 11/20\n",
            "60000/60000 [==============================] - 5s 89us/sample - loss: 0.4118 - acc: 0.8540 - val_loss: 0.4032 - val_acc: 0.8578\n",
            "Epoch 12/20\n",
            "60000/60000 [==============================] - 5s 89us/sample - loss: 0.4000 - acc: 0.8576 - val_loss: 0.3999 - val_acc: 0.8580\n",
            "Epoch 13/20\n",
            "60000/60000 [==============================] - 5s 87us/sample - loss: 0.3918 - acc: 0.8619 - val_loss: 0.4051 - val_acc: 0.8575\n",
            "Epoch 14/20\n",
            "60000/60000 [==============================] - 5s 87us/sample - loss: 0.3860 - acc: 0.8627 - val_loss: 0.3905 - val_acc: 0.8632\n",
            "Epoch 15/20\n",
            "60000/60000 [==============================] - 5s 88us/sample - loss: 0.3763 - acc: 0.8656 - val_loss: 0.4179 - val_acc: 0.8509\n",
            "Epoch 16/20\n",
            "60000/60000 [==============================] - 5s 89us/sample - loss: 0.3724 - acc: 0.8653 - val_loss: 0.3834 - val_acc: 0.8597\n",
            "Epoch 17/20\n",
            "60000/60000 [==============================] - 5s 88us/sample - loss: 0.3619 - acc: 0.8700 - val_loss: 0.3911 - val_acc: 0.8628\n",
            "Epoch 18/20\n",
            "60000/60000 [==============================] - 5s 89us/sample - loss: 0.3621 - acc: 0.8702 - val_loss: 0.3944 - val_acc: 0.8652\n",
            "Epoch 19/20\n",
            "60000/60000 [==============================] - 5s 87us/sample - loss: 0.3569 - acc: 0.8712 - val_loss: 0.4055 - val_acc: 0.8612\n",
            "Epoch 20/20\n",
            "60000/60000 [==============================] - 5s 88us/sample - loss: 0.3504 - acc: 0.8741 - val_loss: 0.3915 - val_acc: 0.8664\n"
          ],
          "name": "stdout"
        }
      ]
    },
    {
      "cell_type": "markdown",
      "metadata": {
        "id": "mORb9IwPP7oE",
        "colab_type": "text"
      },
      "source": [
        "## Evaluate accuracy"
      ]
    },
    {
      "cell_type": "code",
      "metadata": {
        "id": "rlKIF6ijOkiE",
        "colab_type": "code",
        "outputId": "b8cd7049-fb94-4e05-8f46-c1332eeff692",
        "colab": {
          "base_uri": "https://localhost:8080/",
          "height": 51
        }
      },
      "source": [
        "test_loss, test_acc = model.evaluate(test_images, test_labels)\n",
        "\n",
        "print('Test accuracy:', test_acc)"
      ],
      "execution_count": 0,
      "outputs": [
        {
          "output_type": "stream",
          "text": [
            "10000/10000 [==============================] - 1s 54us/sample - loss: 0.3915 - acc: 0.8664\n",
            "Test accuracy: 0.8664\n"
          ],
          "name": "stdout"
        }
      ]
    },
    {
      "cell_type": "markdown",
      "metadata": {
        "colab_type": "text",
        "id": "Vv3x8TPrpucd"
      },
      "source": [
        "Since the test accuracy is very close to the training accuracy, this model is neither underfit not overfit."
      ]
    },
    {
      "cell_type": "markdown",
      "metadata": {
        "id": "GqbGdV6oXEyP",
        "colab_type": "text"
      },
      "source": [
        "## Training/test loss/accuracy during training"
      ]
    },
    {
      "cell_type": "code",
      "metadata": {
        "id": "3b5OCE5YTrEc",
        "colab_type": "code",
        "colab": {}
      },
      "source": [
        "history_dict = history.history\n",
        "loss_values = history_dict['loss']\n",
        "test_loss_values = history_dict['val_loss']\n",
        "epochs_range = range(1, epochs+1)"
      ],
      "execution_count": 0,
      "outputs": []
    },
    {
      "cell_type": "code",
      "metadata": {
        "id": "y98AOblYT3Pk",
        "colab_type": "code",
        "outputId": "059f6e51-bd60-4601-8374-d8c798d8731d",
        "colab": {
          "base_uri": "https://localhost:8080/",
          "height": 295
        }
      },
      "source": [
        "plt.plot(epochs_range, loss_values, 'bo', label='Training loss')\n",
        "plt.plot(epochs_range, test_loss_values, 'ro', label='Test loss')\n",
        "plt.title('Training and test loss')\n",
        "plt.xlabel('Epochs')\n",
        "plt.ylabel('Loss')\n",
        "plt.legend()\n",
        "plt.show()"
      ],
      "execution_count": 0,
      "outputs": [
        {
          "output_type": "display_data",
          "data": {
            "image/png": "[encoded data removed]",
            "text/plain": [
              "<Figure size 432x288 with 1 Axes>"
            ]
          },
          "metadata": {
            "tags": []
          }
        }
      ]
    },
    {
      "cell_type": "code",
      "metadata": {
        "id": "790AkDaTWuZU",
        "colab_type": "code",
        "colab": {}
      },
      "source": [
        "acc_values = history_dict['acc']\n",
        "test_acc_values = history_dict['val_acc']"
      ],
      "execution_count": 0,
      "outputs": []
    },
    {
      "cell_type": "code",
      "metadata": {
        "id": "7BkIfPQ4W39E",
        "colab_type": "code",
        "outputId": "cbc7e723-2284-41da-81e4-42100bed2310",
        "colab": {
          "base_uri": "https://localhost:8080/",
          "height": 295
        }
      },
      "source": [
        "plt.plot(epochs_range, acc_values, 'bo', label='Training accuracy')\n",
        "plt.plot(epochs_range, test_acc_values, 'ro', label='Test accuracy')\n",
        "plt.title('Training and test accuracy')\n",
        "plt.xlabel('Epochs')\n",
        "plt.ylabel('Accuracy')\n",
        "plt.legend()\n",
        "plt.show()"
      ],
      "execution_count": 0,
      "outputs": [
        {
          "output_type": "display_data",
          "data": {
            "image/png": "[encoded data removed]",
            "text/plain": [
              "<Figure size 432x288 with 1 Axes>"
            ]
          },
          "metadata": {
            "tags": []
          }
        }
      ]
    }
  ]
}