{
  "nbformat": 4,
  "nbformat_minor": 0,
  "metadata": {
    "colab": {
      "name": "hw2-p3.ipynb",
      "provenance": []
    },
    "kernelspec": {
      "name": "python3",
      "display_name": "Python 3"
    },
    "accelerator": "GPU"
  },
  "cells": [
    {
      "cell_type": "markdown",
      "metadata": {
        "id": "l34GNy7tyNks",
        "colab_type": "text"
      },
      "source": [
        "## Loading the CIFAR10 data set"
      ]
    },
    {
      "cell_type": "code",
      "metadata": {
        "id": "FSJyddqGexl5",
        "colab_type": "code",
        "colab": {}
      },
      "source": [
        "import tensorflow as tf\n",
        "from tensorflow import keras\n",
        "from keras.datasets import cifar10\n",
        "\n",
        "(train_images, train_labels), (test_images, test_labels) = cifar10.load_data()"
      ],
      "execution_count": 0,
      "outputs": []
    },
    {
      "cell_type": "markdown",
      "metadata": {
        "id": "4wIIEigbB_ly",
        "colab_type": "text"
      },
      "source": [
        "## Preprocess the data"
      ]
    },
    {
      "cell_type": "code",
      "metadata": {
        "id": "xAX6TwxypySM",
        "colab_type": "code",
        "colab": {}
      },
      "source": [
        "from keras.utils import to_categorical\n",
        "\n",
        "train_images = train_images / 255.0\n",
        "test_images = test_images / 255.0\n",
        "\n",
        "train_labels = to_categorical(train_labels)\n",
        "test_labels = to_categorical(test_labels)"
      ],
      "execution_count": 0,
      "outputs": []
    },
    {
      "cell_type": "markdown",
      "metadata": {
        "id": "rt44vyY1xW9b",
        "colab_type": "text"
      },
      "source": [
        "# Underfit model"
      ]
    },
    {
      "cell_type": "markdown",
      "metadata": {
        "id": "oDeCLDW1CPeA",
        "colab_type": "text"
      },
      "source": [
        "## Build the model"
      ]
    },
    {
      "cell_type": "code",
      "metadata": {
        "id": "TIb4i7z2CStK",
        "colab_type": "code",
        "colab": {}
      },
      "source": [
        "from keras import layers\n",
        "from keras import models\n",
        "\n",
        "model = models.Sequential()\n",
        "\n",
        "model.add(layers.Conv2D(32, (3, 3), activation='relu', kernel_initializer='he_uniform', padding='same', input_shape=(32, 32, 3)))\n",
        "model.add(layers.MaxPooling2D((2, 2)))\n",
        "model.add(layers.Flatten())\n",
        "model.add(layers.Dense(16, activation='relu', kernel_initializer='he_uniform'))\n",
        "model.add(layers.Dropout(.5))\n",
        "model.add(layers.Dense(10, activation='softmax'))"
      ],
      "execution_count": 0,
      "outputs": []
    },
    {
      "cell_type": "markdown",
      "metadata": {
        "id": "bwDmJ0-fUx06",
        "colab_type": "text"
      },
      "source": [
        "## Compile the model"
      ]
    },
    {
      "cell_type": "code",
      "metadata": {
        "id": "HMHrRtVXUzuf",
        "colab_type": "code",
        "colab": {}
      },
      "source": [
        "from keras import optimizers\n",
        "\n",
        "opt = optimizers.SGD(lr=0.001, momentum=0.9)\n",
        "\n",
        "model.compile(\n",
        "    optimizer=opt, \n",
        "    loss='categorical_crossentropy', \n",
        "    metrics=['accuracy']\n",
        ")"
      ],
      "execution_count": 0,
      "outputs": []
    },
    {
      "cell_type": "markdown",
      "metadata": {
        "id": "ZgK5_g1DSJWK",
        "colab_type": "text"
      },
      "source": [
        "## Fit the model"
      ]
    },
    {
      "cell_type": "code",
      "metadata": {
        "id": "VW2y8wMESMbO",
        "colab_type": "code",
        "outputId": "d6bfb262-a207-4151-990e-e118836a27b8",
        "colab": {
          "base_uri": "https://localhost:8080/",
          "height": 714
        }
      },
      "source": [
        "epochs = 20\n",
        "\n",
        "history = model.fit(\n",
        "    train_images, \n",
        "    train_labels, \n",
        "    epochs=epochs, \n",
        "    batch_size=64, \n",
        "    validation_data=(test_images, test_labels)\n",
        ")"
      ],
      "execution_count": 0,
      "outputs": [
        {
          "output_type": "stream",
          "text": [
            "Train on 50000 samples, validate on 10000 samples\n",
            "Epoch 1/20\n",
            "50000/50000 [==============================] - 8s 150us/step - loss: 2.2688 - acc: 0.1210 - val_loss: 2.1987 - val_acc: 0.1611\n",
            "Epoch 2/20\n",
            "50000/50000 [==============================] - 5s 94us/step - loss: 2.2207 - acc: 0.1364 - val_loss: 2.1093 - val_acc: 0.2127\n",
            "Epoch 3/20\n",
            "50000/50000 [==============================] - 5s 92us/step - loss: 2.1544 - acc: 0.1693 - val_loss: 2.0188 - val_acc: 0.2432\n",
            "Epoch 4/20\n",
            "50000/50000 [==============================] - 5s 91us/step - loss: 2.1033 - acc: 0.1759 - val_loss: 1.9249 - val_acc: 0.2744\n",
            "Epoch 5/20\n",
            "50000/50000 [==============================] - 5s 93us/step - loss: 2.0702 - acc: 0.1861 - val_loss: 1.9123 - val_acc: 0.2868\n",
            "Epoch 6/20\n",
            "50000/50000 [==============================] - 5s 91us/step - loss: 2.0451 - acc: 0.1979 - val_loss: 1.8636 - val_acc: 0.3328\n",
            "Epoch 7/20\n",
            "50000/50000 [==============================] - 5s 92us/step - loss: 2.0160 - acc: 0.2146 - val_loss: 1.8418 - val_acc: 0.3598\n",
            "Epoch 8/20\n",
            "50000/50000 [==============================] - 5s 92us/step - loss: 1.9770 - acc: 0.2327 - val_loss: 1.7752 - val_acc: 0.3901\n",
            "Epoch 9/20\n",
            "50000/50000 [==============================] - 5s 91us/step - loss: 1.9375 - acc: 0.2515 - val_loss: 1.7302 - val_acc: 0.4208\n",
            "Epoch 10/20\n",
            "50000/50000 [==============================] - 5s 93us/step - loss: 1.9153 - acc: 0.2589 - val_loss: 1.7085 - val_acc: 0.4215\n",
            "Epoch 11/20\n",
            "50000/50000 [==============================] - 4s 90us/step - loss: 1.8850 - acc: 0.2685 - val_loss: 1.6764 - val_acc: 0.4257\n",
            "Epoch 12/20\n",
            "50000/50000 [==============================] - 5s 91us/step - loss: 1.8633 - acc: 0.2814 - val_loss: 1.6499 - val_acc: 0.4399\n",
            "Epoch 13/20\n",
            "50000/50000 [==============================] - 5s 93us/step - loss: 1.8378 - acc: 0.2906 - val_loss: 1.6057 - val_acc: 0.4456\n",
            "Epoch 14/20\n",
            "50000/50000 [==============================] - 5s 93us/step - loss: 1.8080 - acc: 0.3041 - val_loss: 1.6167 - val_acc: 0.4465\n",
            "Epoch 15/20\n",
            "50000/50000 [==============================] - 5s 91us/step - loss: 1.7823 - acc: 0.3110 - val_loss: 1.5520 - val_acc: 0.4877\n",
            "Epoch 16/20\n",
            "50000/50000 [==============================] - 5s 91us/step - loss: 1.7499 - acc: 0.3293 - val_loss: 1.5163 - val_acc: 0.4895\n",
            "Epoch 17/20\n",
            "50000/50000 [==============================] - 4s 88us/step - loss: 1.7276 - acc: 0.3395 - val_loss: 1.4919 - val_acc: 0.4924\n",
            "Epoch 18/20\n",
            "50000/50000 [==============================] - 4s 89us/step - loss: 1.7103 - acc: 0.3447 - val_loss: 1.4665 - val_acc: 0.5042\n",
            "Epoch 19/20\n",
            "50000/50000 [==============================] - 4s 89us/step - loss: 1.6904 - acc: 0.3488 - val_loss: 1.5028 - val_acc: 0.5000\n",
            "Epoch 20/20\n",
            "50000/50000 [==============================] - 5s 90us/step - loss: 1.6801 - acc: 0.3566 - val_loss: 1.4381 - val_acc: 0.5091\n"
          ],
          "name": "stdout"
        }
      ]
    },
    {
      "cell_type": "markdown",
      "metadata": {
        "id": "xI5DBLapmv8I",
        "colab_type": "text"
      },
      "source": [
        "## Evaluate accuracy"
      ]
    },
    {
      "cell_type": "code",
      "metadata": {
        "id": "_pc4-KP2mzBg",
        "colab_type": "code",
        "outputId": "67e9557d-2dfc-4bec-9b32-1089418a70ec",
        "colab": {
          "base_uri": "https://localhost:8080/",
          "height": 51
        }
      },
      "source": [
        "test_loss, test_acc = model.evaluate(test_images, test_labels)\n",
        "\n",
        "print('Test accuracy:', test_acc)"
      ],
      "execution_count": 0,
      "outputs": [
        {
          "output_type": "stream",
          "text": [
            "10000/10000 [==============================] - 1s 78us/step\n",
            "Test accuracy: 0.5091\n"
          ],
          "name": "stdout"
        }
      ]
    },
    {
      "cell_type": "markdown",
      "metadata": {
        "id": "XmTciPq_bZRn",
        "colab_type": "text"
      },
      "source": [
        "## Training/test loss/accuracy during training"
      ]
    },
    {
      "cell_type": "code",
      "metadata": {
        "id": "rxq1eioWbZ9C",
        "colab_type": "code",
        "colab": {}
      },
      "source": [
        "import matplotlib.pyplot as plt\n",
        "import numpy as np\n",
        "\n",
        "history_dict = history.history\n",
        "loss_values = history_dict['loss']\n",
        "test_loss_values = history_dict['val_loss']\n",
        "epochs_range = range(1, epochs+1)"
      ],
      "execution_count": 0,
      "outputs": []
    },
    {
      "cell_type": "code",
      "metadata": {
        "id": "FphNyJxjcxKL",
        "colab_type": "code",
        "outputId": "fcda1e77-1f05-4b1c-97f3-c37574d6342d",
        "colab": {
          "base_uri": "https://localhost:8080/",
          "height": 295
        }
      },
      "source": [
        "plt.plot(epochs_range, loss_values, 'bo', label='Training loss')\n",
        "plt.plot(epochs_range, test_loss_values, 'ro', label='Test loss')\n",
        "plt.title('Training and test loss')\n",
        "plt.xlabel('Epochs')\n",
        "plt.ylabel('Loss')\n",
        "plt.legend()\n",
        "plt.show()"
      ],
      "execution_count": 0,
      "outputs": [
        {
          "output_type": "display_data",
          "data": {
            "image/png": "[encoded data removed]",
            "text/plain": [
              "<Figure size 432x288 with 1 Axes>"
            ]
          },
          "metadata": {
            "tags": []
          }
        }
      ]
    },
    {
      "cell_type": "code",
      "metadata": {
        "id": "loLU2szUc5KN",
        "colab_type": "code",
        "colab": {}
      },
      "source": [
        "acc_values = history_dict['acc']\n",
        "test_acc_values = history_dict['val_acc']"
      ],
      "execution_count": 0,
      "outputs": []
    },
    {
      "cell_type": "code",
      "metadata": {
        "id": "xUk_DnRic6dd",
        "colab_type": "code",
        "outputId": "71c6da84-71f3-4019-c709-9fbc90eada6a",
        "colab": {
          "base_uri": "https://localhost:8080/",
          "height": 295
        }
      },
      "source": [
        "plt.plot(epochs_range, acc_values, 'bo', label='Training accuracy')\n",
        "plt.plot(epochs_range, test_acc_values, 'ro', label='Test accuracy')\n",
        "plt.title('Training and test accuracy')\n",
        "plt.xlabel('Epochs')\n",
        "plt.ylabel('Accuracy')\n",
        "plt.legend()\n",
        "plt.show()"
      ],
      "execution_count": 0,
      "outputs": [
        {
          "output_type": "display_data",
          "data": {
            "image/png": "[encoded data removed]",
            "text/plain": [
              "<Figure size 432x288 with 1 Axes>"
            ]
          },
          "metadata": {
            "tags": []
          }
        }
      ]
    },
    {
      "cell_type": "markdown",
      "metadata": {
        "colab_type": "text",
        "id": "_vfRDA19etan"
      },
      "source": [
        "# Overfit model"
      ]
    },
    {
      "cell_type": "markdown",
      "metadata": {
        "colab_type": "text",
        "id": "WPV-Yb1Tetar"
      },
      "source": [
        "## Build the model"
      ]
    },
    {
      "cell_type": "code",
      "metadata": {
        "colab_type": "code",
        "id": "UmwgicsVetat",
        "colab": {}
      },
      "source": [
        "from keras import layers\n",
        "from keras import models\n",
        "\n",
        "model = models.Sequential()\n",
        "\n",
        "model.add(layers.Conv2D(64, (3, 3), activation='relu', kernel_initializer='he_uniform', padding='same', input_shape=(32, 32, 3)))\n",
        "model.add(layers.Conv2D(128, (3, 3), activation='relu', kernel_initializer='he_uniform', padding='same'))\n",
        "model.add(layers.MaxPooling2D((2, 2)))\n",
        "model.add(layers.Flatten())\n",
        "model.add(layers.Dense(256, activation='relu', kernel_initializer='he_uniform'))\n",
        "model.add(layers.Dense(10, activation='softmax'))"
      ],
      "execution_count": 0,
      "outputs": []
    },
    {
      "cell_type": "markdown",
      "metadata": {
        "colab_type": "text",
        "id": "gLgpSbu1eta2"
      },
      "source": [
        "## Compile the model"
      ]
    },
    {
      "cell_type": "code",
      "metadata": {
        "colab_type": "code",
        "id": "VU4BlmYGeta4",
        "colab": {}
      },
      "source": [
        "from keras import optimizers\n",
        "\n",
        "opt = optimizers.SGD(lr=0.001, momentum=0.9)\n",
        "\n",
        "model.compile(\n",
        "    optimizer=opt, \n",
        "    loss='categorical_crossentropy', \n",
        "    metrics=['accuracy']\n",
        ")"
      ],
      "execution_count": 0,
      "outputs": []
    },
    {
      "cell_type": "markdown",
      "metadata": {
        "colab_type": "text",
        "id": "XkvRsGOHetbA"
      },
      "source": [
        "## Fit the model"
      ]
    },
    {
      "cell_type": "code",
      "metadata": {
        "colab_type": "code",
        "outputId": "4576eaa2-90e8-4d07-de8d-82b29b3f5daf",
        "id": "x7qZdC1XetbH",
        "colab": {
          "base_uri": "https://localhost:8080/",
          "height": 714
        }
      },
      "source": [
        "epochs = 20\n",
        "\n",
        "history = model.fit(\n",
        "    train_images, \n",
        "    train_labels, \n",
        "    epochs=epochs, \n",
        "    batch_size=64, \n",
        "    validation_data=(test_images, test_labels)\n",
        ")"
      ],
      "execution_count": 0,
      "outputs": [
        {
          "output_type": "stream",
          "text": [
            "Train on 50000 samples, validate on 10000 samples\n",
            "Epoch 1/20\n",
            "50000/50000 [==============================] - 10s 191us/step - loss: 1.6792 - acc: 0.4023 - val_loss: 1.4726 - val_acc: 0.4802\n",
            "Epoch 2/20\n",
            "50000/50000 [==============================] - 8s 164us/step - loss: 1.3330 - acc: 0.5302 - val_loss: 1.2774 - val_acc: 0.5581\n",
            "Epoch 3/20\n",
            "50000/50000 [==============================] - 8s 163us/step - loss: 1.1649 - acc: 0.5896 - val_loss: 1.1602 - val_acc: 0.5886\n",
            "Epoch 4/20\n",
            "50000/50000 [==============================] - 8s 165us/step - loss: 1.0493 - acc: 0.6348 - val_loss: 1.0945 - val_acc: 0.6096\n",
            "Epoch 5/20\n",
            "50000/50000 [==============================] - 8s 164us/step - loss: 0.9573 - acc: 0.6677 - val_loss: 1.0022 - val_acc: 0.6558\n",
            "Epoch 6/20\n",
            "50000/50000 [==============================] - 8s 164us/step - loss: 0.8774 - acc: 0.6980 - val_loss: 0.9941 - val_acc: 0.6583\n",
            "Epoch 7/20\n",
            "50000/50000 [==============================] - 8s 165us/step - loss: 0.8134 - acc: 0.7195 - val_loss: 0.9628 - val_acc: 0.6691\n",
            "Epoch 8/20\n",
            "50000/50000 [==============================] - 8s 165us/step - loss: 0.7482 - acc: 0.7413 - val_loss: 0.9490 - val_acc: 0.6762\n",
            "Epoch 9/20\n",
            "50000/50000 [==============================] - 8s 164us/step - loss: 0.6853 - acc: 0.7661 - val_loss: 0.9329 - val_acc: 0.6839\n",
            "Epoch 10/20\n",
            "50000/50000 [==============================] - 8s 164us/step - loss: 0.6318 - acc: 0.7861 - val_loss: 0.9149 - val_acc: 0.6886\n",
            "Epoch 11/20\n",
            "50000/50000 [==============================] - 8s 164us/step - loss: 0.5715 - acc: 0.8089 - val_loss: 0.9010 - val_acc: 0.6937\n",
            "Epoch 12/20\n",
            "50000/50000 [==============================] - 8s 167us/step - loss: 0.5139 - acc: 0.8291 - val_loss: 0.8959 - val_acc: 0.6989\n",
            "Epoch 13/20\n",
            "50000/50000 [==============================] - 8s 168us/step - loss: 0.4559 - acc: 0.8501 - val_loss: 0.9080 - val_acc: 0.7004\n",
            "Epoch 14/20\n",
            "50000/50000 [==============================] - 8s 163us/step - loss: 0.3967 - acc: 0.8731 - val_loss: 0.9274 - val_acc: 0.7014\n",
            "Epoch 15/20\n",
            "50000/50000 [==============================] - 8s 167us/step - loss: 0.3406 - acc: 0.8942 - val_loss: 1.0254 - val_acc: 0.6872\n",
            "Epoch 16/20\n",
            "50000/50000 [==============================] - 8s 164us/step - loss: 0.2895 - acc: 0.9130 - val_loss: 0.9870 - val_acc: 0.7027\n",
            "Epoch 17/20\n",
            "50000/50000 [==============================] - 8s 165us/step - loss: 0.2340 - acc: 0.9346 - val_loss: 1.0410 - val_acc: 0.6936\n",
            "Epoch 18/20\n",
            "50000/50000 [==============================] - 8s 166us/step - loss: 0.1923 - acc: 0.9489 - val_loss: 1.0342 - val_acc: 0.7054\n",
            "Epoch 19/20\n",
            "50000/50000 [==============================] - 8s 164us/step - loss: 0.1512 - acc: 0.9638 - val_loss: 1.1165 - val_acc: 0.6959\n",
            "Epoch 20/20\n",
            "50000/50000 [==============================] - 8s 164us/step - loss: 0.1153 - acc: 0.9750 - val_loss: 1.1144 - val_acc: 0.7051\n"
          ],
          "name": "stdout"
        }
      ]
    },
    {
      "cell_type": "markdown",
      "metadata": {
        "id": "c1AkKLu-m4c1",
        "colab_type": "text"
      },
      "source": [
        "## Evaluate accuracy"
      ]
    },
    {
      "cell_type": "code",
      "metadata": {
        "id": "mDyzEH7zm7hL",
        "colab_type": "code",
        "outputId": "ee9710f1-31eb-400f-b3de-6b15258d4621",
        "colab": {
          "base_uri": "https://localhost:8080/",
          "height": 51
        }
      },
      "source": [
        "test_loss, test_acc = model.evaluate(test_images, test_labels)\n",
        "\n",
        "print('Test accuracy:', test_acc)"
      ],
      "execution_count": 0,
      "outputs": [
        {
          "output_type": "stream",
          "text": [
            "10000/10000 [==============================] - 1s 95us/step\n",
            "Test accuracy: 0.7051\n"
          ],
          "name": "stdout"
        }
      ]
    },
    {
      "cell_type": "markdown",
      "metadata": {
        "colab_type": "text",
        "id": "5quUriEyetbT"
      },
      "source": [
        "## Training/test loss/accuracy during training"
      ]
    },
    {
      "cell_type": "code",
      "metadata": {
        "colab_type": "code",
        "id": "B6EmyTfzetbW",
        "colab": {}
      },
      "source": [
        "import matplotlib.pyplot as plt\n",
        "import numpy as np\n",
        "\n",
        "history_dict = history.history\n",
        "loss_values = history_dict['loss']\n",
        "test_loss_values = history_dict['val_loss']\n",
        "epochs_range = range(1, epochs+1)"
      ],
      "execution_count": 0,
      "outputs": []
    },
    {
      "cell_type": "code",
      "metadata": {
        "colab_type": "code",
        "outputId": "2641b13c-dcf7-464a-c10c-384d43d0e890",
        "id": "hrY6qAzGetbf",
        "colab": {
          "base_uri": "https://localhost:8080/",
          "height": 295
        }
      },
      "source": [
        "plt.plot(epochs_range, loss_values, 'bo', label='Training loss')\n",
        "plt.plot(epochs_range, test_loss_values, 'ro', label='Test loss')\n",
        "plt.title('Training and test loss')\n",
        "plt.xlabel('Epochs')\n",
        "plt.ylabel('Loss')\n",
        "plt.legend()\n",
        "plt.show()"
      ],
      "execution_count": 0,
      "outputs": [
        {
          "output_type": "display_data",
          "data": {
            "image/png": "[encoded data removed]",
            "text/plain": [
              "<Figure size 432x288 with 1 Axes>"
            ]
          },
          "metadata": {
            "tags": []
          }
        }
      ]
    },
    {
      "cell_type": "code",
      "metadata": {
        "colab_type": "code",
        "id": "eRtjTti-etbr",
        "colab": {}
      },
      "source": [
        "acc_values = history_dict['acc']\n",
        "test_acc_values = history_dict['val_acc']"
      ],
      "execution_count": 0,
      "outputs": []
    },
    {
      "cell_type": "code",
      "metadata": {
        "colab_type": "code",
        "outputId": "cc3435af-c3b1-4952-eb2d-28876e71525c",
        "id": "TqH1Sro1etb1",
        "colab": {
          "base_uri": "https://localhost:8080/",
          "height": 295
        }
      },
      "source": [
        "plt.plot(epochs_range, acc_values, 'bo', label='Training accuracy')\n",
        "plt.plot(epochs_range, test_acc_values, 'ro', label='Test accuracy')\n",
        "plt.title('Training and test accuracy')\n",
        "plt.xlabel('Epochs')\n",
        "plt.ylabel('Accuracy')\n",
        "plt.legend()\n",
        "plt.show()"
      ],
      "execution_count": 0,
      "outputs": [
        {
          "output_type": "display_data",
          "data": {
            "image/png": "[encoded data removed]",
            "text/plain": [
              "<Figure size 432x288 with 1 Axes>"
            ]
          },
          "metadata": {
            "tags": []
          }
        }
      ]
    },
    {
      "cell_type": "markdown",
      "metadata": {
        "colab_type": "text",
        "id": "CDjVZFDMe5aU"
      },
      "source": [
        "# \"Pretty good\" Model"
      ]
    },
    {
      "cell_type": "markdown",
      "metadata": {
        "colab_type": "text",
        "id": "gMGxJgKxe5ae"
      },
      "source": [
        "## Build the model"
      ]
    },
    {
      "cell_type": "code",
      "metadata": {
        "colab_type": "code",
        "id": "XDH_valFe5ai",
        "colab": {}
      },
      "source": [
        "from keras import layers\n",
        "from keras import models\n",
        "\n",
        "model = models.Sequential()\n",
        "\n",
        "model.add(layers.Conv2D(32, (3, 3), activation='relu', kernel_initializer='he_uniform', padding='same', input_shape=(32, 32, 3)))\n",
        "model.add(layers.Conv2D(64, (3, 3), activation='relu', kernel_initializer='he_uniform', padding='same'))\n",
        "model.add(layers.MaxPooling2D((2, 2)))\n",
        "model.add(layers.Dropout(0.2))\n",
        "model.add(layers.Conv2D(64, (3, 3), activation='relu', kernel_initializer='he_uniform', padding='same'))\n",
        "model.add(layers.Conv2D(128, (3, 3), activation='relu', kernel_initializer='he_uniform', padding='same'))\n",
        "model.add(layers.MaxPooling2D((2, 2)))\n",
        "model.add(layers.Dropout(0.2))\n",
        "model.add(layers.Conv2D(128, (3, 3), activation='relu', kernel_initializer='he_uniform', padding='same'))\n",
        "model.add(layers.Conv2D(256, (3, 3), activation='relu', kernel_initializer='he_uniform', padding='same'))\n",
        "model.add(layers.MaxPooling2D((2, 2)))\n",
        "model.add(layers.Dropout(0.2))\n",
        "model.add(layers.Flatten())\n",
        "model.add(layers.Dense(128, activation='relu', kernel_initializer='he_uniform'))\n",
        "model.add(layers.Dropout(0.2))\n",
        "model.add(layers.Dense(10, activation='softmax'))"
      ],
      "execution_count": 0,
      "outputs": []
    },
    {
      "cell_type": "markdown",
      "metadata": {
        "colab_type": "text",
        "id": "0_VvkuZue5ar"
      },
      "source": [
        "## Compile the model"
      ]
    },
    {
      "cell_type": "code",
      "metadata": {
        "colab_type": "code",
        "id": "zjx-I5BRe5at",
        "colab": {}
      },
      "source": [
        "from keras import optimizers\n",
        "\n",
        "opt = optimizers.SGD(lr=0.001, momentum=0.9)\n",
        "\n",
        "model.compile(\n",
        "    optimizer=opt, \n",
        "    loss='categorical_crossentropy', \n",
        "    metrics=['accuracy']\n",
        ")"
      ],
      "execution_count": 0,
      "outputs": []
    },
    {
      "cell_type": "markdown",
      "metadata": {
        "colab_type": "text",
        "id": "HR25LtrCe5ay"
      },
      "source": [
        "## Fit the model"
      ]
    },
    {
      "cell_type": "code",
      "metadata": {
        "colab_type": "code",
        "outputId": "57fd5c78-9f95-4270-9db9-15bce63bece2",
        "id": "BPSBA17Ye5az",
        "colab": {
          "base_uri": "https://localhost:8080/",
          "height": 714
        }
      },
      "source": [
        "epochs = 20\n",
        "\n",
        "history = model.fit(\n",
        "    train_images, \n",
        "    train_labels, \n",
        "    epochs=epochs, \n",
        "    batch_size=64, \n",
        "    validation_data=(test_images, test_labels)\n",
        ")"
      ],
      "execution_count": 0,
      "outputs": [
        {
          "output_type": "stream",
          "text": [
            "Train on 50000 samples, validate on 10000 samples\n",
            "Epoch 1/20\n",
            "50000/50000 [==============================] - 11s 227us/step - loss: 1.9522 - acc: 0.2740 - val_loss: 1.6572 - val_acc: 0.3876\n",
            "Epoch 2/20\n",
            "50000/50000 [==============================] - 9s 175us/step - loss: 1.6249 - acc: 0.4014 - val_loss: 1.5004 - val_acc: 0.4441\n",
            "Epoch 3/20\n",
            "50000/50000 [==============================] - 9s 175us/step - loss: 1.4857 - acc: 0.4582 - val_loss: 1.3839 - val_acc: 0.4998\n",
            "Epoch 4/20\n",
            "50000/50000 [==============================] - 9s 177us/step - loss: 1.3894 - acc: 0.4965 - val_loss: 1.3438 - val_acc: 0.5114\n",
            "Epoch 5/20\n",
            "50000/50000 [==============================] - 9s 175us/step - loss: 1.3133 - acc: 0.5241 - val_loss: 1.2130 - val_acc: 0.5673\n",
            "Epoch 6/20\n",
            "50000/50000 [==============================] - 9s 175us/step - loss: 1.2311 - acc: 0.5595 - val_loss: 1.1116 - val_acc: 0.6059\n",
            "Epoch 7/20\n",
            "50000/50000 [==============================] - 9s 179us/step - loss: 1.1606 - acc: 0.5868 - val_loss: 1.0709 - val_acc: 0.6236\n",
            "Epoch 8/20\n",
            "50000/50000 [==============================] - 9s 176us/step - loss: 1.0916 - acc: 0.6127 - val_loss: 0.9793 - val_acc: 0.6556\n",
            "Epoch 9/20\n",
            "50000/50000 [==============================] - 9s 173us/step - loss: 1.0269 - acc: 0.6346 - val_loss: 0.9564 - val_acc: 0.6598\n",
            "Epoch 10/20\n",
            "50000/50000 [==============================] - 9s 173us/step - loss: 0.9765 - acc: 0.6553 - val_loss: 0.9364 - val_acc: 0.6686\n",
            "Epoch 11/20\n",
            "50000/50000 [==============================] - 9s 175us/step - loss: 0.9283 - acc: 0.6700 - val_loss: 0.8486 - val_acc: 0.7024\n",
            "Epoch 12/20\n",
            "50000/50000 [==============================] - 9s 175us/step - loss: 0.8817 - acc: 0.6883 - val_loss: 0.8293 - val_acc: 0.7074\n",
            "Epoch 13/20\n",
            "50000/50000 [==============================] - 9s 174us/step - loss: 0.8488 - acc: 0.7018 - val_loss: 0.8058 - val_acc: 0.7178\n",
            "Epoch 14/20\n",
            "50000/50000 [==============================] - 9s 175us/step - loss: 0.8130 - acc: 0.7133 - val_loss: 0.7706 - val_acc: 0.7320\n",
            "Epoch 15/20\n",
            "50000/50000 [==============================] - 9s 174us/step - loss: 0.7858 - acc: 0.7228 - val_loss: 0.7348 - val_acc: 0.7423\n",
            "Epoch 16/20\n",
            "50000/50000 [==============================] - 9s 173us/step - loss: 0.7621 - acc: 0.7286 - val_loss: 0.7383 - val_acc: 0.7429\n",
            "Epoch 17/20\n",
            "50000/50000 [==============================] - 9s 175us/step - loss: 0.7343 - acc: 0.7404 - val_loss: 0.7217 - val_acc: 0.7461\n",
            "Epoch 18/20\n",
            "50000/50000 [==============================] - 9s 174us/step - loss: 0.7096 - acc: 0.7496 - val_loss: 0.6876 - val_acc: 0.7598\n",
            "Epoch 19/20\n",
            "50000/50000 [==============================] - 9s 176us/step - loss: 0.6881 - acc: 0.7562 - val_loss: 0.6740 - val_acc: 0.7635\n",
            "Epoch 20/20\n",
            "50000/50000 [==============================] - 9s 175us/step - loss: 0.6659 - acc: 0.7645 - val_loss: 0.6561 - val_acc: 0.7737\n"
          ],
          "name": "stdout"
        }
      ]
    },
    {
      "cell_type": "markdown",
      "metadata": {
        "colab_type": "text",
        "id": "-cXy3Ancqywe"
      },
      "source": [
        "## Evaluate accuracy"
      ]
    },
    {
      "cell_type": "code",
      "metadata": {
        "colab_type": "code",
        "outputId": "15ec9ea1-289d-4c55-c08f-562974e3450b",
        "id": "8EoHT2zpqywq",
        "colab": {
          "base_uri": "https://localhost:8080/",
          "height": 51
        }
      },
      "source": [
        "test_loss, test_acc = model.evaluate(test_images, test_labels)\n",
        "\n",
        "print('Test accuracy:', test_acc)"
      ],
      "execution_count": 0,
      "outputs": [
        {
          "output_type": "stream",
          "text": [
            "10000/10000 [==============================] - 1s 105us/step\n",
            "Test accuracy: 0.7737\n"
          ],
          "name": "stdout"
        }
      ]
    },
    {
      "cell_type": "markdown",
      "metadata": {
        "colab_type": "text",
        "id": "hTOKgaPye5a5"
      },
      "source": [
        "## Training/test loss/accuracy during training"
      ]
    },
    {
      "cell_type": "code",
      "metadata": {
        "colab_type": "code",
        "id": "McA6QgPve5a9",
        "colab": {}
      },
      "source": [
        "import matplotlib.pyplot as plt\n",
        "import numpy as np\n",
        "\n",
        "history_dict = history.history\n",
        "loss_values = history_dict['loss']\n",
        "test_loss_values = history_dict['val_loss']\n",
        "epochs_range = range(1, epochs+1)"
      ],
      "execution_count": 0,
      "outputs": []
    },
    {
      "cell_type": "code",
      "metadata": {
        "colab_type": "code",
        "outputId": "32ca9859-e65a-4e86-a192-cede1bee1055",
        "id": "DWMSNk-Ce5bB",
        "colab": {
          "base_uri": "https://localhost:8080/",
          "height": 295
        }
      },
      "source": [
        "plt.plot(epochs_range, loss_values, 'bo', label='Training loss')\n",
        "plt.plot(epochs_range, test_loss_values, 'ro', label='Test loss')\n",
        "plt.title('Training and test loss')\n",
        "plt.xlabel('Epochs')\n",
        "plt.ylabel('Loss')\n",
        "plt.legend()\n",
        "plt.show()"
      ],
      "execution_count": 0,
      "outputs": [
        {
          "output_type": "display_data",
          "data": {
            "image/png": "[encoded data removed]",
            "text/plain": [
              "<Figure size 432x288 with 1 Axes>"
            ]
          },
          "metadata": {
            "tags": []
          }
        }
      ]
    },
    {
      "cell_type": "code",
      "metadata": {
        "colab_type": "code",
        "id": "jL8XYveae5bG",
        "colab": {}
      },
      "source": [
        "acc_values = history_dict['acc']\n",
        "test_acc_values = history_dict['val_acc']"
      ],
      "execution_count": 0,
      "outputs": []
    },
    {
      "cell_type": "code",
      "metadata": {
        "colab_type": "code",
        "outputId": "45f0a0bc-2a59-42de-dfd1-95644c3b4d40",
        "id": "unE3MyqWe5bJ",
        "colab": {
          "base_uri": "https://localhost:8080/",
          "height": 295
        }
      },
      "source": [
        "plt.plot(epochs_range, acc_values, 'bo', label='Training accuracy')\n",
        "plt.plot(epochs_range, test_acc_values, 'ro', label='Test accuracy')\n",
        "plt.title('Training and test accuracy')\n",
        "plt.xlabel('Epochs')\n",
        "plt.ylabel('Accuracy')\n",
        "plt.legend()\n",
        "plt.show()"
      ],
      "execution_count": 0,
      "outputs": [
        {
          "output_type": "display_data",
          "data": {
            "image/png": "[encoded data removed]",
            "text/plain": [
              "<Figure size 432x288 with 1 Axes>"
            ]
          },
          "metadata": {
            "tags": []
          }
        }
      ]
    }
  ]
}