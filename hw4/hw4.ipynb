{
  "nbformat": 4,
  "nbformat_minor": 0,
  "metadata": {
    "colab": {
      "name": "hw4.ipynb",
      "provenance": []
    },
    "kernelspec": {
      "name": "python3",
      "display_name": "Python 3"
    }
  },
  "cells": [
    {
      "cell_type": "markdown",
      "metadata": {
        "id": "pr6xPg20A2j0",
        "colab_type": "text"
      },
      "source": [
        "# General Concepts"
      ]
    },
    {
      "cell_type": "markdown",
      "metadata": {
        "id": "13T8JvKFzvzU",
        "colab_type": "text"
      },
      "source": [
        "One of the things that I learned in this class is the difference  between supervised learning, unsupervised learning, and reinforcement learning.\n",
        "\n",
        "Supervised learning is when the model being trained is provided training data that is labeled. So, when it makes its prediction during training, it can compare that with the actual label and adjust the weights and biases of its layers to more accurately match the data.\n",
        "\n",
        "Unsupervised learning is when the model does not have a labeled training set, so instead of being able to properly label any given data the model must find meaningful patterns within the data to categorize it. \n",
        "\n",
        "Reinforcement learning is different from both supervised and unsupervising learning, in that there are no labels involved with it. Instead, you \"reward\" it for doing a given task well and \"punish\" it for not doing well. For example, if you were training a model to play some video game, you would reward it for getting points and playing for a long time and punish it for dying or getting a \"game over\" screen."
      ]
    },
    {
      "cell_type": "markdown",
      "metadata": {
        "id": "EBY2KP5bCa7N",
        "colab_type": "text"
      },
      "source": [
        "I also learned the difference between AI, ML, and Deep Learning. Artificial Intelligence is the overarching field, dealing with the simulation of intelligent behavior in computers in general.\n",
        "\n",
        "Machine Learning is a subset of AI where the program is able to adjust itself in respones to the data that they are exposed to all on its own, without human intervention. \n",
        "\n",
        "Deep Learning is a subset of ML (and therefore also a subset of AI) that is capable of learning from data that is unlabeled, i.e. from unsupervised learning."
      ]
    },
    {
      "cell_type": "markdown",
      "metadata": {
        "id": "LiF07SL2D27_",
        "colab_type": "text"
      },
      "source": [
        "# Building a Model"
      ]
    },
    {
      "cell_type": "markdown",
      "metadata": {
        "id": "aOzr_d6ID6qq",
        "colab_type": "text"
      },
      "source": [
        "Models are made up of different layers of neurons, with there being different types of layers that manipulate the data in different ways.\n",
        "\n",
        "One type of layer is a Dense layer, or a fully connected layer, which is able to process vector data. Another type is a Conv2D layer, which is often used to process data in images. \n",
        "\n",
        "MaxPooling layers serve to downsample the data by taking the max of different subsections of the data. This serves to bring out both the most prominent data and to reduce the amount of data being processed, which can allow the model to be more general and less specific to the training data.\n",
        "\n",
        "All of these layers are used in the code example below."
      ]
    },
    {
      "cell_type": "markdown",
      "metadata": {
        "id": "GjU-Ep7uFR6S",
        "colab_type": "text"
      },
      "source": [
        "### Example of building a convnet"
      ]
    },
    {
      "cell_type": "code",
      "metadata": {
        "id": "LZ4L_CpDPAtn",
        "colab_type": "code",
        "outputId": "84e673b0-2e19-4a12-862b-c386ccd48033",
        "colab": {
          "base_uri": "https://localhost:8080/",
          "height": 104
        }
      },
      "source": [
        "from keras import layers\n",
        "from keras import models\n",
        "\n",
        "model = models.Sequential()\n",
        "# conv layers\n",
        "# 1\n",
        "model.add(layers.Conv2D(32, (3, 3), activation='relu', input_shape=(150, 150, 3)))\n",
        "model.add(layers.MaxPooling2D(2, 2))\n",
        "# 2\n",
        "model.add(layers.Conv2D(64, (3, 3), activation='relu'))\n",
        "model.add(layers.MaxPooling2D(2, 2))\n",
        "# 3\n",
        "model.add(layers.Conv2D(128, (3, 3), activation='relu'))\n",
        "model.add(layers.MaxPooling2D(2, 2))\n",
        "# 4\n",
        "model.add(layers.Conv2D(128, (3, 3), activation='relu'))\n",
        "model.add(layers.MaxPooling2D(2, 2))\n",
        "# dense layers\n",
        "model.add(layers.Flatten())\n",
        "model.add(layers.Dense(512, activation='relu'))\n",
        "model.add(layers.Dense(1, activation='sigmoid'))"
      ],
      "execution_count": 0,
      "outputs": [
        {
          "output_type": "stream",
          "text": [
            "Using TensorFlow backend.\n"
          ],
          "name": "stderr"
        },
        {
          "output_type": "stream",
          "text": [
            "WARNING:tensorflow:From /usr/local/lib/python3.6/dist-packages/tensorflow/python/framework/op_def_library.py:263: colocate_with (from tensorflow.python.framework.ops) is deprecated and will be removed in a future version.\n",
            "Instructions for updating:\n",
            "Colocations handled automatically by placer.\n"
          ],
          "name": "stdout"
        }
      ]
    },
    {
      "cell_type": "markdown",
      "metadata": {
        "id": "zUP1haQwJfeQ",
        "colab_type": "text"
      },
      "source": [
        "# Training a Model"
      ]
    },
    {
      "cell_type": "markdown",
      "metadata": {
        "id": "DZLZTbaSJ57O",
        "colab_type": "text"
      },
      "source": [
        "The actual traning of the model is done automatically with Keras. However, the model often does require human input to fight things like overfitting and underfitting.\n",
        "\n",
        "Overfitting occurs when a model is trained too much on the training data, and is not able to properly identify the testing data. With an overfit model, the training accuracy may be very high, but the test accuracy will be much lower. This occurs when the model is more complex than necessary, so it isn't able to predict new data as well.\n",
        "\n",
        "Underfitting occurs when the model doesn't predict either the training data or the testing data well. If underfitting occurs, then that means the model is not complex enough to predict any data."
      ]
    }
  ]
}